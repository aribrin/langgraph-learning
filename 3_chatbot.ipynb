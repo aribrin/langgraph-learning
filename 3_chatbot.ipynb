{
 "cells": [
  {
   "cell_type": "code",
   "execution_count": 29,
   "id": "34beaf4a",
   "metadata": {},
   "outputs": [],
   "source": [
    "from dotenv import load_dotenv\n",
    "load_dotenv()\n",
    "\n",
    "from typing import TypedDict, Literal, Annotated\n",
    "from langchain.chat_models import init_chat_model\n",
    "from langgraph.graph import StateGraph, START, END\n",
    "from langgraph.graph.message import add_messages\n",
    "\n"
   ]
  },
  {
   "cell_type": "code",
   "execution_count": 30,
   "id": "f9c6a404",
   "metadata": {},
   "outputs": [],
   "source": [
    "llm = init_chat_model(\"google_genai:gemini-2.0-flash\")\n",
    "\n",
    "\n",
    "class State(TypedDict):\n",
    "    messages: Annotated[list, add_messages]\n",
    "\n",
    "def chatbot(state: State) -> State:\n",
    "    return {\"messages\": [llm.invoke(state[\"messages\"])]}\n",
    "\n",
    "builder = StateGraph(State)\n",
    "builder.add_node(\"chatbot_node\", chatbot)\n",
    "\n",
    "builder.add_edge(START, \"chatbot_node\")\n",
    "builder.add_edge(\"chatbot_node\", END)\n",
    "\n",
    "graph = builder.compile()"
   ]
  },
  {
   "cell_type": "code",
   "execution_count": 31,
   "id": "d081fe58",
   "metadata": {},
   "outputs": [
    {
     "data": {
      "text/plain": [
       "[HumanMessage(content='Who invented the light bulb? Print only the name of the inventor.', additional_kwargs={}, response_metadata={}, id='4a4f5ea5-118e-4a81-b667-3be6a01ada86'),\n",
       " AIMessage(content='Thomas Edison', additional_kwargs={}, response_metadata={'prompt_feedback': {'block_reason': 0, 'safety_ratings': []}, 'finish_reason': 'STOP', 'model_name': 'gemini-2.0-flash', 'safety_ratings': []}, id='run--adb6cda4-083c-4e97-99b1-238683b23436-0', usage_metadata={'input_tokens': 14, 'output_tokens': 3, 'total_tokens': 17, 'input_token_details': {'cache_read': 0}})]"
      ]
     },
     "execution_count": 31,
     "metadata": {},
     "output_type": "execute_result"
    }
   ],
   "source": [
    "message = {\"role\": \"user\", \"content\": \"Who invented the light bulb? Print only the name of the inventor.\"}\n",
    "  \n",
    "responce = graph.invoke({\"messages\": [message]})\n",
    "\n",
    "responce[\"messages\"]"
   ]
  },
  {
   "cell_type": "code",
   "execution_count": 32,
   "id": "19326ee1",
   "metadata": {},
   "outputs": [],
   "source": [
    "import ipywidgets as widgets\n",
    "from IPython.display import display, clear_output\n",
    "\n",
    "# UI elements\n",
    "input_box = widgets.Text(placeholder=\"Type a message...\", description=\"You:\", continuous_update=False)\n",
    "submit_button = widgets.Button(description=\"Send\")\n",
    "output_area = widgets.Output()\n",
    "\n",
    "ui = widgets.VBox([input_box, submit_button, output_area])\n",
    "\n"
   ]
  },
  {
   "cell_type": "code",
   "execution_count": 33,
   "id": "189dce44",
   "metadata": {},
   "outputs": [],
   "source": [
    "# Initial state\n",
    "state = {\"messages\": []}\n",
    "\n",
    "def on_submit(_):\n",
    "    global state\n",
    "    user_input = input_box.value.strip()\n",
    "    input_box.value = \"\"\n",
    "\n",
    "    if user_input.lower() in [\"exit\", \"quit\"]:\n",
    "        with output_area:\n",
    "            print(\"Session ended.\")\n",
    "        return\n",
    "\n",
    "    # Append user message\n",
    "    state[\"messages\"].append({\"role\": \"user\", \"content\": user_input})\n",
    "\n",
    "    # Run chat graph\n",
    "    state = graph.invoke(state)\n",
    "\n",
    "    # Extract last message (whether raw dict or AIMessage object)\n",
    "    last_msg = state[\"messages\"][-1]\n",
    "    if isinstance(last_msg, dict):\n",
    "        bot_reply = last_msg.get(\"content\", \"No reply\")\n",
    "    else:\n",
    "        bot_reply = last_msg.content\n",
    "    with output_area:\n",
    "        print(f\"You: {user_input}\")\n",
    "        print(f\"Bot: {bot_reply}\")\n",
    "\n",
    "# Button click\n",
    "submit_button.on_click(on_submit)\n",
    "\n",
    "# ENTER key (no deprecated .on_submit)\n",
    "def on_text_submit(change):\n",
    "    if change[\"name\"] == \"value\" and change[\"type\"] == \"change\" and input_box.value.strip():\n",
    "        on_submit(None)\n",
    "\n",
    "input_box.observe(on_text_submit, names=\"value\")\n",
    "\n",
    "\n"
   ]
  },
  {
   "cell_type": "code",
   "execution_count": 34,
   "id": "453ce277",
   "metadata": {},
   "outputs": [
    {
     "data": {
      "application/vnd.jupyter.widget-view+json": {
       "model_id": "d42a765cbd074590a3c797fec5e0b655",
       "version_major": 2,
       "version_minor": 0
      },
      "text/plain": [
       "VBox(children=(Text(value='', continuous_update=False, description='You:', placeholder='Type a message...'), B…"
      ]
     },
     "metadata": {},
     "output_type": "display_data"
    }
   ],
   "source": [
    "display(ui)"
   ]
  }
 ],
 "metadata": {
  "kernelspec": {
   "display_name": "langenv",
   "language": "python",
   "name": "python3"
  },
  "language_info": {
   "codemirror_mode": {
    "name": "ipython",
    "version": 3
   },
   "file_extension": ".py",
   "mimetype": "text/x-python",
   "name": "python",
   "nbconvert_exporter": "python",
   "pygments_lexer": "ipython3",
   "version": "3.13.5"
  }
 },
 "nbformat": 4,
 "nbformat_minor": 5
}
